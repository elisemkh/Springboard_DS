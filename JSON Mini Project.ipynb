{
 "cells": [
  {
   "cell_type": "code",
   "execution_count": 59,
   "metadata": {},
   "outputs": [],
   "source": [
    "import pandas as pd\n",
    "import json\n",
    "from pandas.io.json import json_normalize"
   ]
  },
  {
   "cell_type": "code",
   "execution_count": 60,
   "metadata": {},
   "outputs": [],
   "source": [
    "data = json.load((open('data/world_bank_projects.json')))\n",
    "wbp_df = pd.read_json('data/world_bank_projects.json')"
   ]
  },
  {
   "cell_type": "code",
   "execution_count": 61,
   "metadata": {},
   "outputs": [
    {
     "name": "stdout",
     "output_type": "stream",
     "text": [
      "People's Republic of China         19\n",
      "Republic of Indonesia              19\n",
      "Socialist Republic of Vietnam      17\n",
      "Republic of India                  16\n",
      "Republic of Yemen                  13\n",
      "Nepal                              12\n",
      "Kingdom of Morocco                 12\n",
      "People's Republic of Bangladesh    12\n",
      "Africa                             11\n",
      "Republic of Mozambique             11\n",
      "Name: countryname, dtype: int64\n"
     ]
    }
   ],
   "source": [
    "# 10 countries with the most projects\n",
    "print(wbp_df['countryname'].value_counts().nlargest(10))"
   ]
  },
  {
   "cell_type": "code",
   "execution_count": 63,
   "metadata": {},
   "outputs": [],
   "source": [
    "mn_df = json_normalize(data, 'mjtheme_namecode')"
   ]
  },
  {
   "cell_type": "code",
   "execution_count": 64,
   "metadata": {},
   "outputs": [
    {
     "name": "stdout",
     "output_type": "stream",
     "text": [
      "Environment and natural resources management    223\n",
      "Rural development                               202\n",
      "Human development                               197\n",
      "Public sector governance                        184\n",
      "Social protection and risk management           158\n",
      "Financial and private sector development        130\n",
      "                                                122\n",
      "Social dev/gender/inclusion                     119\n",
      "Trade and integration                            72\n",
      "Urban development                                47\n",
      "Name: name, dtype: int64\n"
     ]
    }
   ],
   "source": [
    "#Top ten major project themes before filling in empty values. Notice 122 with no name.\n",
    "print(mn_df['name'].value_counts().nlargest(10))"
   ]
  },
  {
   "cell_type": "code",
   "execution_count": 66,
   "metadata": {},
   "outputs": [
    {
     "name": "stdout",
     "output_type": "stream",
     "text": [
      "Environment and natural resources management    250\n",
      "Rural development                               216\n",
      "Human development                               210\n",
      "Public sector governance                        199\n",
      "Social protection and risk management           168\n",
      "Financial and private sector development        146\n",
      "Social dev/gender/inclusion                     130\n",
      "Trade and integration                            77\n",
      "Urban development                                50\n",
      "Economic management                              38\n",
      "Name: name, dtype: int64\n"
     ]
    }
   ],
   "source": [
    "#Filling in empty names by making a dictionary with the 11 codes and names. Notice no more with no name.\n",
    "m = {'1':'Economic management', '10':'Rural development', '11':'Environment and natural resources management',\n",
    "       '2':'Public sector governance','3':'Rule of law', '4':'Financial and private sector development', '5':'Trade and integration',\n",
    "       '6':'Social protection and risk management', '7':'Social dev/gender/inclusion', '8':'Human development', '9':'Urban development'}\n",
    "mn_df['name'] = mn_df['code'].map(m)\n",
    "print(mn_df['name'].value_counts().nlargest(10))"
   ]
  },
  {
   "cell_type": "code",
   "execution_count": null,
   "metadata": {},
   "outputs": [],
   "source": []
  }
 ],
 "metadata": {
  "kernelspec": {
   "display_name": "Python 3",
   "language": "python",
   "name": "python3"
  },
  "language_info": {
   "codemirror_mode": {
    "name": "ipython",
    "version": 3
   },
   "file_extension": ".py",
   "mimetype": "text/x-python",
   "name": "python",
   "nbconvert_exporter": "python",
   "pygments_lexer": "ipython3",
   "version": "3.6.4"
  }
 },
 "nbformat": 4,
 "nbformat_minor": 2
}
